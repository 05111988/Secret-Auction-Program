{
 "cells": [
  {
   "cell_type": "code",
   "execution_count": 1,
   "id": "7638d89d-763a-4a2c-b26d-44c7645d98a3",
   "metadata": {},
   "outputs": [],
   "source": [
    "#Creating a dictionary\n",
    "programming_dictionary = {\n",
    "    \"Bug\": \"An error in a program that prevents the program from running as expected.\",\n",
    "    \"Loop\": \"The action of doing something over and over again.\" \n",
    "}"
   ]
  },
  {
   "cell_type": "code",
   "execution_count": 2,
   "id": "58aa2f64-7297-4369-9c19-d04b2a4086bd",
   "metadata": {},
   "outputs": [
    {
     "name": "stdout",
     "output_type": "stream",
     "text": [
      "{'Bug': 'An error in a program that prevents the program from running as expected.', 'Loop': 'The action of doing something over and over again.', 'Function': 'A piece of code that you can easily call over and over again.'}\n"
     ]
    }
   ],
   "source": [
    "# Adding a item into a dictionary\n",
    "programming_dictionary[\"Function\"] = \"A piece of code that you can easily call over and over again.\"\n",
    "print(programming_dictionary)"
   ]
  },
  {
   "cell_type": "code",
   "execution_count": 3,
   "id": "796434d3-197e-45c7-a28e-c69134182ebb",
   "metadata": {},
   "outputs": [
    {
     "name": "stdout",
     "output_type": "stream",
     "text": [
      "{'Bug': 'A moth inside your code.', 'Loop': 'The action of doing something over and over again.', 'Function': 'A piece of code that you can easily call over and over again.'}\n"
     ]
    }
   ],
   "source": [
    "# Editing a item into a dictionary\n",
    "programming_dictionary[\"Bug\"] = \"A moth inside your code.\"\n",
    "print(programming_dictionary)"
   ]
  },
  {
   "cell_type": "code",
   "execution_count": 6,
   "id": "2c0b040a-1c3b-464e-967f-4cc5b4794d32",
   "metadata": {},
   "outputs": [
    {
     "name": "stdout",
     "output_type": "stream",
     "text": [
      "Bug\n",
      "A moth inside your code.\n",
      "Loop\n",
      "The action of doing something over and over again.\n",
      "Function\n",
      "A piece of code that you can easily call over and over again.\n"
     ]
    }
   ],
   "source": [
    "#Loop through a dictionary\n",
    "for key in programming_dictionary:\n",
    "    print(key)\n",
    "    print(programming_dictionary[key])"
   ]
  },
  {
   "cell_type": "code",
   "execution_count": 13,
   "id": "5e69f82c-0f00-4f0e-b97d-b0f6e444c0d9",
   "metadata": {},
   "outputs": [
    {
     "name": "stdout",
     "output_type": "stream",
     "text": [
      "Lille\n",
      "D\n"
     ]
    }
   ],
   "source": [
    "capitals = {\n",
    "    \"France\": \"paris\",\n",
    "    \"Germany\": \"Berlin\",\n",
    "}\n",
    "#Nested List in the dictionary\n",
    "travel_log = {\n",
    "    \"France\" : [\"Paris\", \"Lille\", \"Dijon\"]\n",
    "}\n",
    "print(travel_log[\"France\"][1])\n",
    "nested_list = [\"A\", \"B\",[\"C\",\"D\"]]\n",
    "print(nested_list[2][1])"
   ]
  },
  {
   "cell_type": "code",
   "execution_count": 16,
   "id": "299d136b-3da9-4c95-ac78-22aa0c131c64",
   "metadata": {},
   "outputs": [
    {
     "name": "stdout",
     "output_type": "stream",
     "text": [
      "Stuttgart\n"
     ]
    }
   ],
   "source": [
    "#Nested dictionary\n",
    "travel_log = {\n",
    "    \"France\" : {\n",
    "        \"num_times_visited\": 8,\n",
    "        \"cities_visited\": [\"Paris\", \"Lille\", \"Dijon\"],\n",
    "    },\n",
    "    \"Germany\": {\n",
    "        \"cities_visited\": [\"Berlin\", \"Hamburg\", \"Stuttgart\"],\n",
    "        \"totat_visits\": 8,\n",
    "    }  \n",
    "}\n",
    "print(travel_log[\"Germany\"][\"cities_visited\"][2])"
   ]
  },
  {
   "cell_type": "code",
   "execution_count": 24,
   "id": "efafe264-0cd9-45f1-af86-170337756ca7",
   "metadata": {},
   "outputs": [
    {
     "name": "stdout",
     "output_type": "stream",
     "text": [
      "\n",
      "                                -----------\n",
      "                                \\         /\n",
      "                                 )-------(\n",
      "                                 |\"|_.-._,.---------.,_.-._\n",
      "                                 |       | | |               | | ''-.\n",
      "                                 |       |_| |_             _| |_..-'\n",
      "                                 |-------| '-' `'---------'` '-'\n",
      "                                 )\"(\n",
      "                                /---------                              .-------------.\n",
      "                             /_______________\n",
      "Welcome to the secret auction program.\n"
     ]
    },
    {
     "ename": "KeyboardInterrupt",
     "evalue": "Interrupted by user",
     "output_type": "error",
     "traceback": [
      "\u001b[31m---------------------------------------------------------------------------\u001b[39m",
      "\u001b[31mKeyboardInterrupt\u001b[39m                         Traceback (most recent call last)",
      "\u001b[36mCell\u001b[39m\u001b[36m \u001b[39m\u001b[32mIn[24]\u001b[39m\u001b[32m, line 31\u001b[39m\n\u001b[32m     29\u001b[39m continue_bidding = \u001b[38;5;28;01mTrue\u001b[39;00m\n\u001b[32m     30\u001b[39m \u001b[38;5;28;01mwhile\u001b[39;00m continue_bidding:\n\u001b[32m---> \u001b[39m\u001b[32m31\u001b[39m     name = \u001b[38;5;28;43minput\u001b[39;49m\u001b[43m(\u001b[49m\u001b[33;43m\"\u001b[39;49m\u001b[33;43mWhat is your name?: \u001b[39;49m\u001b[38;5;130;43;01m\\n\u001b[39;49;00m\u001b[33;43m\"\u001b[39;49m\u001b[43m)\u001b[49m\n\u001b[32m     32\u001b[39m     price = \u001b[38;5;28mint\u001b[39m(\u001b[38;5;28minput\u001b[39m(\u001b[33m\"\u001b[39m\u001b[33mWhat is your bid?: $\u001b[39m\u001b[38;5;130;01m\\n\u001b[39;00m\u001b[33m\"\u001b[39m))\n\u001b[32m     33\u001b[39m     bids[name] = price\n",
      "\u001b[36mFile \u001b[39m\u001b[32m/Library/Frameworks/Python.framework/Versions/3.13/lib/python3.13/site-packages/ipykernel/kernelbase.py:1282\u001b[39m, in \u001b[36mKernel.raw_input\u001b[39m\u001b[34m(self, prompt)\u001b[39m\n\u001b[32m   1280\u001b[39m     msg = \u001b[33m\"\u001b[39m\u001b[33mraw_input was called, but this frontend does not support input requests.\u001b[39m\u001b[33m\"\u001b[39m\n\u001b[32m   1281\u001b[39m     \u001b[38;5;28;01mraise\u001b[39;00m StdinNotImplementedError(msg)\n\u001b[32m-> \u001b[39m\u001b[32m1282\u001b[39m \u001b[38;5;28;01mreturn\u001b[39;00m \u001b[38;5;28;43mself\u001b[39;49m\u001b[43m.\u001b[49m\u001b[43m_input_request\u001b[49m\u001b[43m(\u001b[49m\n\u001b[32m   1283\u001b[39m \u001b[43m    \u001b[49m\u001b[38;5;28;43mstr\u001b[39;49m\u001b[43m(\u001b[49m\u001b[43mprompt\u001b[49m\u001b[43m)\u001b[49m\u001b[43m,\u001b[49m\n\u001b[32m   1284\u001b[39m \u001b[43m    \u001b[49m\u001b[38;5;28;43mself\u001b[39;49m\u001b[43m.\u001b[49m\u001b[43m_parent_ident\u001b[49m\u001b[43m[\u001b[49m\u001b[33;43m\"\u001b[39;49m\u001b[33;43mshell\u001b[39;49m\u001b[33;43m\"\u001b[39;49m\u001b[43m]\u001b[49m\u001b[43m,\u001b[49m\n\u001b[32m   1285\u001b[39m \u001b[43m    \u001b[49m\u001b[38;5;28;43mself\u001b[39;49m\u001b[43m.\u001b[49m\u001b[43mget_parent\u001b[49m\u001b[43m(\u001b[49m\u001b[33;43m\"\u001b[39;49m\u001b[33;43mshell\u001b[39;49m\u001b[33;43m\"\u001b[39;49m\u001b[43m)\u001b[49m\u001b[43m,\u001b[49m\n\u001b[32m   1286\u001b[39m \u001b[43m    \u001b[49m\u001b[43mpassword\u001b[49m\u001b[43m=\u001b[49m\u001b[38;5;28;43;01mFalse\u001b[39;49;00m\u001b[43m,\u001b[49m\n\u001b[32m   1287\u001b[39m \u001b[43m\u001b[49m\u001b[43m)\u001b[49m\n",
      "\u001b[36mFile \u001b[39m\u001b[32m/Library/Frameworks/Python.framework/Versions/3.13/lib/python3.13/site-packages/ipykernel/kernelbase.py:1325\u001b[39m, in \u001b[36mKernel._input_request\u001b[39m\u001b[34m(self, prompt, ident, parent, password)\u001b[39m\n\u001b[32m   1322\u001b[39m \u001b[38;5;28;01mexcept\u001b[39;00m \u001b[38;5;167;01mKeyboardInterrupt\u001b[39;00m:\n\u001b[32m   1323\u001b[39m     \u001b[38;5;66;03m# re-raise KeyboardInterrupt, to truncate traceback\u001b[39;00m\n\u001b[32m   1324\u001b[39m     msg = \u001b[33m\"\u001b[39m\u001b[33mInterrupted by user\u001b[39m\u001b[33m\"\u001b[39m\n\u001b[32m-> \u001b[39m\u001b[32m1325\u001b[39m     \u001b[38;5;28;01mraise\u001b[39;00m \u001b[38;5;167;01mKeyboardInterrupt\u001b[39;00m(msg) \u001b[38;5;28;01mfrom\u001b[39;00m\u001b[38;5;250m \u001b[39m\u001b[38;5;28;01mNone\u001b[39;00m\n\u001b[32m   1326\u001b[39m \u001b[38;5;28;01mexcept\u001b[39;00m \u001b[38;5;167;01mException\u001b[39;00m:\n\u001b[32m   1327\u001b[39m     \u001b[38;5;28mself\u001b[39m.log.warning(\u001b[33m\"\u001b[39m\u001b[33mInvalid Message:\u001b[39m\u001b[33m\"\u001b[39m, exc_info=\u001b[38;5;28;01mTrue\u001b[39;00m)\n",
      "\u001b[31mKeyboardInterrupt\u001b[39m: Interrupted by user"
     ]
    }
   ],
   "source": [
    "logo = r\"\"\"\n",
    "                                -----------\n",
    "                                \\         /\n",
    "                                 )-------(\n",
    "                                 |\"\"\"\"\"\"\"|_.-._,.---------.,_.-._\n",
    "                                 |       | | |               | | ''-.\n",
    "                                 |       |_| |_             _| |_..-'\n",
    "                                 |-------| '-' `'---------'` '-'\n",
    "                                 )\"\"\"\"\"\"\"(\n",
    "                                /---------\\\n",
    "                              .-------------.\n",
    "                             /_______________\\\n",
    "\n",
    "\n",
    "\n",
    "\n",
    "\n",
    "\"\"\"\n",
    "print(logo)\n",
    "print(\"Welcome to the secret auction program.\")\n",
    "def find_highest_bidder(bidding_dictionary):\n",
    "    winner = \"\"\n",
    "    highest_bid = 0\n",
    "    for bidder in bidding_dictionary:\n",
    "        bid_amount  = bidding_dictionary[bidder]\n",
    "        if bid_amount > highest_bid:\n",
    "            highest_bid = bid_amount\n",
    "            winner = bidder\n",
    "    print(f\"The winner is {winner} with a bid of ${highest_bid}.\")\n",
    "bids = {}\n",
    "continue_bidding = True\n",
    "while continue_bidding:\n",
    "    name = input(\"What is your name?: \\n\")\n",
    "    price = int(input(\"What is your bid?: $\\n\"))\n",
    "    bids[name] = price\n",
    "    should_continue = input(\"Are there any other bidders? Type 'yes' or 'no'.\\n\").lower()\n",
    "    if should_continue == \"no\":\n",
    "        continue_bidding = False\n",
    "        find_highest_bidder(bids)\n",
    "    elif should_continue == \"yes\":\n",
    "        print(\"\\n\" * 20)\n",
    "\n",
    "\n"
   ]
  },
  {
   "cell_type": "code",
   "execution_count": null,
   "id": "6721da85-4448-47cd-9b04-2712a68a9fa6",
   "metadata": {},
   "outputs": [],
   "source": []
  }
 ],
 "metadata": {
  "kernelspec": {
   "display_name": "Python 3 (ipykernel)",
   "language": "python",
   "name": "python3"
  },
  "language_info": {
   "codemirror_mode": {
    "name": "ipython",
    "version": 3
   },
   "file_extension": ".py",
   "mimetype": "text/x-python",
   "name": "python",
   "nbconvert_exporter": "python",
   "pygments_lexer": "ipython3",
   "version": "3.13.3"
  }
 },
 "nbformat": 4,
 "nbformat_minor": 5
}
